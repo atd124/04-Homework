{
 "cells": [
  {
   "cell_type": "markdown",
   "metadata": {},
   "source": [
    "# WeatherAPI (Weather)\n",
    "\n",
    "Answer the following questions using [WeatherAPI](http://www.weatherapi.com/). I've added three cells for most questions but you're free to use more or less! Hold `Shift` and hit `Enter` to run a cell, and use the `+` on the top left to add a new cell to a notebook.\n",
    "\n",
    "Be sure to take advantage of both the documentation and the API Explorer!\n",
    "\n",
    "## 0) Import any libraries you might need\n",
    "\n",
    "- *Tip: We're going to be downloading things from the internet, so we probably need `requests`.*\n",
    "- *Tip: Remember you only need to import requests once!*"
   ]
  },
  {
   "cell_type": "code",
   "execution_count": 1,
   "metadata": {},
   "outputs": [],
   "source": [
    "import requests"
   ]
  },
  {
   "cell_type": "markdown",
   "metadata": {
    "collapsed": true
   },
   "source": [
    "## 1) Make a request to the Weather API for where you were born (or lived, or want to visit!).\n",
    "\n",
    "- *Tip: The URL we used in class was for a place near San Francisco. What was the format of the endpoint that made this happen?*\n",
    "- *Tip: Save the URL as a separate variable, and be sure to not have `[` and `]` inside.*\n",
    "- *Tip: How is north vs. south and east vs. west latitude/longitude represented? Is it the normal North/South/East/West?*\n",
    "- *Tip: You know it's JSON, but Python doesn't! Make sure you aren't trying to deal with plain text.* \n",
    "- *Tip: Once you've imported the JSON into a variable, check the timezone's name to make sure it seems like it got the right part of the world!*"
   ]
  },
  {
   "cell_type": "code",
   "execution_count": 2,
   "metadata": {},
   "outputs": [],
   "source": [
    "url = \"http://api.weatherapi.com/v1/current.json?key=912b824aadd9412889d230027221306&q=07652&aqi=no\"\n",
    "\n",
    "response = requests.get(url)\n",
    "\n",
    "data = response.json()"
   ]
  },
  {
   "cell_type": "code",
   "execution_count": 3,
   "metadata": {},
   "outputs": [
    {
     "name": "stdout",
     "output_type": "stream",
     "text": [
      "{'location': {'name': 'Paramus', 'region': 'New Jersey', 'country': 'USA', 'lat': 40.95, 'lon': -74.07, 'tz_id': 'America/New_York', 'localtime_epoch': 1655381278, 'localtime': '2022-06-16 8:07'}, 'current': {'last_updated_epoch': 1655377200, 'last_updated': '2022-06-16 07:00', 'temp_c': 17.0, 'temp_f': 62.6, 'is_day': 1, 'condition': {'text': 'Light rain', 'icon': '//cdn.weatherapi.com/weather/64x64/day/296.png', 'code': 1183}, 'wind_mph': 2.2, 'wind_kph': 3.6, 'wind_degree': 167, 'wind_dir': 'SSE', 'pressure_mb': 1024.0, 'pressure_in': 30.24, 'precip_mm': 0.0, 'precip_in': 0.0, 'humidity': 94, 'cloud': 100, 'feelslike_c': 17.0, 'feelslike_f': 62.6, 'vis_km': 4.8, 'vis_miles': 2.0, 'uv': 4.0, 'gust_mph': 9.4, 'gust_kph': 15.1}}\n"
     ]
    }
   ],
   "source": [
    "print(data)"
   ]
  },
  {
   "cell_type": "markdown",
   "metadata": {},
   "source": [
    "## 2) What's the current wind speed? How much warmer does it feel than it actually is?\n",
    "\n",
    "- *Tip: You can do this by browsing through the dictionaries, but it might be easier to read the documentation*\n",
    "- *Tip: For the second half: it **is** one temperature, and it **feels** a different temperature. Calculate the difference.*"
   ]
  },
  {
   "cell_type": "code",
   "execution_count": 4,
   "metadata": {},
   "outputs": [
    {
     "name": "stdout",
     "output_type": "stream",
     "text": [
      "The current wind speed in Paramus is 2.2 mph.\n"
     ]
    }
   ],
   "source": [
    "print(\"The current wind speed in\", data['location']['name'], \"is\", data['current']['wind_mph'], \"mph.\")"
   ]
  },
  {
   "cell_type": "code",
   "execution_count": 5,
   "metadata": {},
   "outputs": [
    {
     "name": "stdout",
     "output_type": "stream",
     "text": [
      "It feels 0.0 degrees warmer.\n"
     ]
    }
   ],
   "source": [
    "temp = data['current']['temp_f']\n",
    "feels = data['current']['feelslike_f']\n",
    "\n",
    "# print(temp)\n",
    "# print(feels)\n",
    "\n",
    "if temp > feels:\n",
    "    print(\"It feels\", round(temp - feels, 1), \"degrees colder.\") \n",
    "else:\n",
    "    print(\"It feels\", round(feels - temp, 1), \"degrees warmer.\")"
   ]
  },
  {
   "cell_type": "markdown",
   "metadata": {},
   "source": [
    "## 3) What is the API endpoint for moon-related information? For the place you decided on above, how much of the moon will be visible tomorrow?\n",
    "\n",
    "- *Tip: Check the documentation!*\n",
    "- *Tip: If you aren't sure what something means, ask in Slack*"
   ]
  },
  {
   "cell_type": "code",
   "execution_count": 6,
   "metadata": {},
   "outputs": [],
   "source": [
    "# http://api.weatherapi.com/v1/astronomy.json?key={key}={zipcode}={yyyy-mm-dd}"
   ]
  },
  {
   "cell_type": "code",
   "execution_count": 7,
   "metadata": {},
   "outputs": [
    {
     "name": "stdout",
     "output_type": "stream",
     "text": [
      "{'location': {'name': 'Paramus', 'region': 'New Jersey', 'country': 'USA', 'lat': 40.95, 'lon': -74.07, 'tz_id': 'America/New_York', 'localtime_epoch': 1655381279, 'localtime': '2022-06-16 8:07'}, 'astronomy': {'astro': {'sunrise': '05:24 AM', 'sunset': '08:29 PM', 'moonrise': '09:16 PM', 'moonset': '05:09 AM', 'moon_phase': 'Full Moon', 'moon_illumination': '100'}}}\n"
     ]
    }
   ],
   "source": [
    "url = \"http://api.weatherapi.com/v1/astronomy.json?key=912b824aadd9412889d230027221306&q=07652&dt=2022-06-14\"\n",
    "\n",
    "response = requests.get(url)\n",
    "\n",
    "data = response.json()\n",
    "\n",
    "print(data)"
   ]
  },
  {
   "cell_type": "code",
   "execution_count": 8,
   "metadata": {},
   "outputs": [
    {
     "name": "stdout",
     "output_type": "stream",
     "text": [
      "100 percent of the moon will be visible in Paramus tonight.\n"
     ]
    }
   ],
   "source": [
    "print(data['astronomy']['astro']['moon_illumination'], \"percent of the moon will be visible in\", data['location']['name'], \"tonight.\")"
   ]
  },
  {
   "cell_type": "markdown",
   "metadata": {},
   "source": [
    "## 4) What's the difference between the high and low temperatures for today?\n",
    "\n",
    "- *Tip: When you requested moon data, you probably overwrote your variables! If so, you'll need to make a new request.*"
   ]
  },
  {
   "cell_type": "code",
   "execution_count": 22,
   "metadata": {},
   "outputs": [
    {
     "name": "stdout",
     "output_type": "stream",
     "text": [
      "The difference between the high and low temperatures in Paramus today is 13.3 degrees.\n"
     ]
    }
   ],
   "source": [
    "url = \"http://api.weatherapi.com/v1/forecast.json?key=912b824aadd9412889d230027221306&q=07652&days=1&aqi=no&alerts=no\"\n",
    "\n",
    "response = requests.get(url)\n",
    "\n",
    "data = response.json()\n",
    "\n",
    "dates = (data['forecast']['forecastday'])\n",
    "\n",
    "high = (date['day']['maxtemp_f'])\n",
    "\n",
    "low = (date['day']['mintemp_f'])\n",
    "\n",
    "for date in dates:\n",
    "    print(\"The difference between the high and low temperatures in\", data['location']['name'], \"today is\", round(high - low,2), \"degrees.\")"
   ]
  },
  {
   "cell_type": "markdown",
   "metadata": {
    "collapsed": true
   },
   "source": [
    "## 4.5) How can you avoid the \"oh no I don't have the data any more because I made another request\" problem in the future?\n",
    "\n",
    "What variable(s) do you have to rename, and what would you rename them?"
   ]
  },
  {
   "cell_type": "code",
   "execution_count": null,
   "metadata": {},
   "outputs": [],
   "source": [
    "# rename url, response, and both sides of forecast_data"
   ]
  },
  {
   "cell_type": "code",
   "execution_count": null,
   "metadata": {},
   "outputs": [],
   "source": [
    "# forecast_url = \"http://api.weatherapi.com/v1/forecast.json?key=912b824aadd9412889d230027221306&q=07652&days=1&aqi=no&alerts=no\"\n",
    "\n",
    "# forecast_response = requests.get(url)\n",
    "\n",
    "# forecast_data = forecast_response.json()"
   ]
  },
  {
   "cell_type": "markdown",
   "metadata": {},
   "source": [
    "## 5) Go through the daily forecasts, printing out the next three days' worth of predictions.\n",
    "\n",
    "I'd like to know the **high temperature** for each day, and whether it's **hot, warm, or cold** (based on what temperatures you think are hot, warm or cold).\n",
    "\n",
    "- *Tip: You'll need to use an `if` statement to say whether it is hot, warm or cold.*"
   ]
  },
  {
   "cell_type": "code",
   "execution_count": 13,
   "metadata": {},
   "outputs": [
    {
     "name": "stdout",
     "output_type": "stream",
     "text": [
      "The high on 2022-06-16 will be 78.8 degrees; it'll be warm.\n",
      "The high on 2022-06-17 will be 92.5 degrees; it'll be hot!\n",
      "The high on 2022-06-18 will be 67.8 degrees; it'll be cold.\n"
     ]
    }
   ],
   "source": [
    "url = \"http://api.weatherapi.com/v1/forecast.json?key=912b824aadd9412889d230027221306&q=07652&days=3&aqi=no&alerts=no\"\n",
    "\n",
    "response = requests.get(url)\n",
    "\n",
    "data = response.json()\n",
    "\n",
    "dates = (data['forecast']['forecastday'])\n",
    "\n",
    "for date in dates:\n",
    "    if (date['day']['maxtemp_f']) > 80:\n",
    "        print(\"The high on\", date['date'], \"will be\", (date['day']['maxtemp_f']), \"degrees; it'll be hot!\")\n",
    "    elif (date['day']['maxtemp_f']) > 70:\n",
    "        print(\"The high on\", date['date'], \"will be\", (date['day']['maxtemp_f']), \"degrees; it'll be warm.\")\n",
    "    else: \n",
    "        print(\"The high on\", date['date'], \"will be\", (date['day']['maxtemp_f']), \"degrees; it'll be cold.\")    "
   ]
  },
  {
   "cell_type": "markdown",
   "metadata": {},
   "source": [
    "## 5b) The question above used to be an entire week, but not any more. Try to re-use the code above to print out seven days.\n",
    "\n",
    "What happens? Can you figure out why it doesn't work?\n",
    "\n",
    "* *Tip: it has to do with the reason you're using an API key - maybe take a look at the \"Air Quality Data\" introduction for a hint? If you can't figure it out right now, no worries.*"
   ]
  },
  {
   "cell_type": "code",
   "execution_count": null,
   "metadata": {},
   "outputs": [],
   "source": [
    "# The API parameter value is for the three days, not seven; so code requires a new url"
   ]
  },
  {
   "cell_type": "markdown",
   "metadata": {},
   "source": [
    "## 6) What will be the hottest day in the next three days? What is the high temperature on that day?"
   ]
  },
  {
   "cell_type": "code",
   "execution_count": 15,
   "metadata": {},
   "outputs": [
    {
     "name": "stdout",
     "output_type": "stream",
     "text": [
      "The three day forecast high on 2022-06-16 will be 78.8 degrees.\n"
     ]
    }
   ],
   "source": [
    "high = 0\n",
    "\n",
    "for date in dates:\n",
    "    if (date['day']['maxtemp_f']) > high:\n",
    "        high = (date['day']['maxtemp_f'])\n",
    "\n",
    "for date in dates:    \n",
    "    if (date['day']['maxtemp_f']) == high:\n",
    "        print(\"The three day forecast high on\", date['date'], \"will be\", high, \"degrees.\")"
   ]
  },
  {
   "cell_type": "markdown",
   "metadata": {},
   "source": [
    "## 7) What's the weather looking like for the next 24+ hours in Miami, Florida?\n",
    "\n",
    "I'd like to know the temperature for every hour, and if it's going to have cloud cover of more than 50% say \"{temperature} and cloudy\" instead of just the temperature. \n",
    "\n",
    "- *Tip: You'll only need one day of forecast*"
   ]
  },
  {
   "cell_type": "code",
   "execution_count": 27,
   "metadata": {},
   "outputs": [
    {
     "name": "stdout",
     "output_type": "stream",
     "text": [
      "84.0 on 2022-06-16 00:00\n",
      "84.0 on 2022-06-16 01:00\n",
      "84.0 on 2022-06-16 02:00\n",
      "83.8 on 2022-06-16 03:00\n",
      "83.7 on 2022-06-16 04:00 and cloudy\n",
      "83.5 on 2022-06-16 05:00 and cloudy\n",
      "83.3 on 2022-06-16 06:00 and cloudy\n",
      "83.3 on 2022-06-16 07:00 and cloudy\n",
      "83.3 on 2022-06-16 08:00 and cloudy\n",
      "83.8 on 2022-06-16 09:00 and cloudy\n",
      "84.4 on 2022-06-16 10:00\n",
      "87.1 on 2022-06-16 11:00 and cloudy\n",
      "90.9 on 2022-06-16 12:00\n",
      "91.2 on 2022-06-16 13:00\n",
      "91.4 on 2022-06-16 14:00\n",
      "91.6 on 2022-06-16 15:00\n",
      "91.0 on 2022-06-16 16:00\n",
      "89.4 on 2022-06-16 17:00\n",
      "86.0 on 2022-06-16 18:00\n",
      "85.3 on 2022-06-16 19:00\n",
      "84.7 on 2022-06-16 20:00\n",
      "84.4 on 2022-06-16 21:00\n",
      "84.4 on 2022-06-16 22:00 and cloudy\n",
      "84.2 on 2022-06-16 23:00 and cloudy\n"
     ]
    }
   ],
   "source": [
    "url = \"http://api.weatherapi.com/v1/forecast.json?key=912b824aadd9412889d230027221306&q=Miami&days=1&aqi=no&alerts=no\"\n",
    "\n",
    "response = requests.get(url)\n",
    "\n",
    "data = response.json()\n",
    "\n",
    "dates = (data['forecast']['forecastday'])\n",
    "\n",
    "for date in dates:\n",
    "    for temp_f in date['hour']:\n",
    "        if temp_f['cloud'] < 50:\n",
    "            print(temp_f['temp_f'], \"on\", temp_f['time'])\n",
    "        else:\n",
    "            print(temp_f['temp_f'], \"on\", temp_f['time'], \"and cloudy\")\n",
    "\n",
    "#temp_hours = date['hour'][0]['temp_f']\n",
    "\n",
    "#print(temp_hours)\n"
   ]
  },
  {
   "cell_type": "markdown",
   "metadata": {},
   "source": [
    "## 8) For the next 24-ish hours in Miami, what percent of the time is the temperature above 85 degrees?\n",
    "\n",
    "- *Tip: You might want to read up on [looping patterns](http://jonathansoma.com/lede/foundations-2017/classes/data%20structures/looping-patterns/)*"
   ]
  },
  {
   "cell_type": "code",
   "execution_count": 33,
   "metadata": {},
   "outputs": [
    {
     "name": "stdout",
     "output_type": "stream",
     "text": [
      "The temp will be over 85 degrees 37.5 percent of the time.\n"
     ]
    }
   ],
   "source": [
    "url = \"http://api.weatherapi.com/v1/forecast.json?key=912b824aadd9412889d230027221306&q=Miami&days=1&aqi=no&alerts=no\"\n",
    "\n",
    "response = requests.get(url)\n",
    "\n",
    "data = response.json()\n",
    "\n",
    "dates = (data['forecast']['forecastday'])\n",
    "\n",
    "count = 0\n",
    "\n",
    "for date in dates:\n",
    "    for temp_f in date['hour']:\n",
    "        if temp_f['temp_f'] > 85:\n",
    "            count = count + 1\n",
    "            \n",
    "print(\"The temp will be over 85 degrees\", (count/24)*100, \"percent of the time.\")"
   ]
  },
  {
   "cell_type": "markdown",
   "metadata": {},
   "source": [
    "## 9) How much will it cost if you need to use 1,500,000 API calls?\n",
    "\n",
    "You are only allowed 1,000,000 API calls each month. If you were really bad at this homework or made some awful loops, WeatherAPI might shut down your free access. \n",
    "\n",
    "* *Tip: this involves looking somewhere that isn't the normal documentation.*"
   ]
  },
  {
   "cell_type": "code",
   "execution_count": null,
   "metadata": {},
   "outputs": [],
   "source": [
    "# $4 per month"
   ]
  },
  {
   "cell_type": "markdown",
   "metadata": {},
   "source": [
    "## 10) You're too poor to spend more money! What else could you do instead of give them money?\n",
    "\n",
    "* *Tip: I'm not endorsing being sneaky, but newsrooms and students are both generally poverty-stricken.*"
   ]
  },
  {
   "cell_type": "code",
   "execution_count": null,
   "metadata": {},
   "outputs": [],
   "source": [
    "# share keys"
   ]
  }
 ],
 "metadata": {
  "kernelspec": {
   "display_name": "Python 3 (ipykernel)",
   "language": "python",
   "name": "python3"
  },
  "language_info": {
   "codemirror_mode": {
    "name": "ipython",
    "version": 3
   },
   "file_extension": ".py",
   "mimetype": "text/x-python",
   "name": "python",
   "nbconvert_exporter": "python",
   "pygments_lexer": "ipython3",
   "version": "3.10.3"
  }
 },
 "nbformat": 4,
 "nbformat_minor": 1
}
